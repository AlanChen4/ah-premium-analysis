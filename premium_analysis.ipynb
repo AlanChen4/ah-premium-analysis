{
 "cells": [
  {
   "cell_type": "code",
   "execution_count": null,
   "id": "b81aea38",
   "metadata": {},
   "outputs": [],
   "source": [
    "import matplotlib.pyplot as plt\n",
    "import numpy as np\n",
    "import pandas as pd\n",
    "import yfinance as yf"
   ]
  },
  {
   "cell_type": "code",
   "execution_count": null,
   "id": "6c7737f4",
   "metadata": {},
   "outputs": [],
   "source": [
    "ah_shares = pd.read_excel('ah_shares.xlsx', index_col=0)"
   ]
  },
  {
   "cell_type": "code",
   "execution_count": null,
   "id": "fce65403",
   "metadata": {},
   "outputs": [],
   "source": [
    "def download_historical_data(row):\n",
    "    \"\"\"\n",
    "    Download 5y historical data and store as .csv in historical_data folder\n",
    "    \"\"\"\n",
    "    # modify symbol to match yahoo finance records\n",
    "    hk_sym = row['HK_Symbol'][1:]\n",
    "    if 'SH' in row['China_Symbol']:\n",
    "        china_sym = row['China_Symbol'].replace('SH', 'SS')\n",
    "    else:\n",
    "        china_sym = row['China_Symbol']\n",
    "    \n",
    "    # fetch data using yfinance\n",
    "    hk_ticker = yf.Ticker(hk_sym)\n",
    "    hk_historical = hk_ticker.history(period='5y', interval='1d')\n",
    "    hk_historical.to_csv(f'historical_data/{row[\"HK_Symbol\"]}.csv')\n",
    "    \n",
    "    china_ticker = yf.Ticker(china_sym)\n",
    "    china_historical = china_ticker.history(period='5y', interval='1d')\n",
    "    china_historical.to_csv(f'historical_data/{row[\"China_Symbol\"]}.csv')\n",
    "    \n",
    "    print(f\"Finished {hk_sym} : {china_sym}\")"
   ]
  },
  {
   "cell_type": "code",
   "execution_count": null,
   "id": "860dfc09",
   "metadata": {},
   "outputs": [],
   "source": [
    "# download historical data\n",
    "ah_shares.apply(download_historical_data, axis=1)"
   ]
  },
  {
   "cell_type": "code",
   "execution_count": null,
   "id": "93f6a015",
   "metadata": {},
   "outputs": [],
   "source": [
    "def get_median_premium_plot(df):\n",
    "    \"\"\"\n",
    "    Returns the median A-H Premium (A Price / H Price)\n",
    "    \"\"\"\n",
    "    pass"
   ]
  },
  {
   "cell_type": "code",
   "execution_count": null,
   "id": "c453ff3e",
   "metadata": {},
   "outputs": [],
   "source": [
    "hk_sym = ah_shares.iloc[1]['HK_Symbol']\n",
    "china_sym = ah_shares.iloc[1]['China_Symbol']\n",
    "\n",
    "hk_data = pd.read_csv(f'historical_data/{hk_sym}.csv', index_col=0)\n",
    "china_data = pd.read_csv(f'historical_data/{china_sym}.csv', index_col=0)\n",
    "\n",
    "merged = pd.merge(hk_data, china_data, left_index=True, right_index=True,\n",
    "                  suffixes=('_HK', '_China'))\n",
    "premium = merged['Close_China'] / merged['Close_HK']\n",
    "\n",
    "premium.plot(rot=20, title=f\"{hk_sym} / {china_sym} Premium\")"
   ]
  },
  {
   "cell_type": "code",
   "execution_count": null,
   "id": "d2ae1c0c",
   "metadata": {},
   "outputs": [],
   "source": []
  }
 ],
 "metadata": {
  "kernelspec": {
   "display_name": "Python 3 (ipykernel)",
   "language": "python",
   "name": "python3"
  },
  "language_info": {
   "codemirror_mode": {
    "name": "ipython",
    "version": 3
   },
   "file_extension": ".py",
   "mimetype": "text/x-python",
   "name": "python",
   "nbconvert_exporter": "python",
   "pygments_lexer": "ipython3",
   "version": "3.9.1"
  }
 },
 "nbformat": 4,
 "nbformat_minor": 5
}
